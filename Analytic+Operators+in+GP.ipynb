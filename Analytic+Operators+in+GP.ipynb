{
 "cells": [
  {
   "cell_type": "code",
   "execution_count": 12,
   "metadata": {
    "collapsed": true
   },
   "outputs": [],
   "source": [
    "try:\n",
    "    import gplearn\n",
    "except:\n",
    "    !pip install gplearn\n",
    "        \n",
    "from gplearn.genetic import SymbolicRegressor\n",
    "from gplearn.functions import make_function\n",
    "import math\n",
    "import numpy as np\n",
    "import matplotlib.pyplot as plt"
   ]
  },
  {
   "cell_type": "markdown",
   "metadata": {},
   "source": [
    "## Defining Analytic Functions"
   ]
  },
  {
   "cell_type": "code",
   "execution_count": 28,
   "metadata": {
    "collapsed": true
   },
   "outputs": [],
   "source": [
    "# Deviations used to avoid zero input\n",
    "a_sqrt_d = 0.1\n",
    "a_ln_d = 0.5\n",
    "a_aq_d = 0.5\n",
    "\n",
    "\n",
    "def _analytic_sqrt(x_arr):\n",
    "    \"\"\"Analytic square root\n",
    "    \"\"\"\n",
    "    f = lambda x : math.sqrt(math.sqrt(a_sqrt_d + x * x))\n",
    "    f = np.vectorize(f)\n",
    "    return f(x_arr)\n",
    "\n",
    "def _analytic_log(x_arr):\n",
    "    \"\"\"Analytic natural logarithm\n",
    "    \"\"\"\n",
    "    f = lambda x : math.log(math.sqrt(a_ln_d + x * x))\n",
    "    f = np.vectorize(f)\n",
    "    return f(x_arr)\n",
    "\n",
    "def _analytic_quotient(num_arr, den_arr):\n",
    "    \"\"\"Analytic Quotient\n",
    "    \"\"\"\n",
    "    f = lambda num, den : num/math.sqrt(a_aq_d + den * den)\n",
    "    f = np.vectorize(f)\n",
    "    return f(num_arr, den_arr)\n",
    "\n",
    "# Factory generating the functions used inside gplearn\n",
    "analytic_log = make_function(function=_analytic_log,\n",
    "                        name='aln',\n",
    "                        arity=1)\n",
    "\n",
    "analytic_sqrt = make_function(function=_analytic_sqrt,\n",
    "                        name='asqrt',\n",
    "                        arity=1)\n",
    "\n",
    "analytic_quotient = make_function(function=_analytic_quotient,\n",
    "                        name='aq',\n",
    "                        arity=2)"
   ]
  },
  {
   "cell_type": "markdown",
   "metadata": {},
   "source": [
    "## Function sets adopted"
   ]
  },
  {
   "cell_type": "code",
   "execution_count": 70,
   "metadata": {
    "collapsed": true
   },
   "outputs": [],
   "source": [
    "f_set_analytic = ['add', 'sub', 'mul', analytic_quotient, analytic_log, analytic_sqrt]\n",
    "f_set_protec = ['add', 'sub', 'mul', 'div', 'log', 'sqrt']\n",
    "f_set_sqrt_quot_an = ['add', 'sub', 'mul', analytic_quotient, analytic_sqrt]"
   ]
  },
  {
   "cell_type": "markdown",
   "metadata": {},
   "source": [
    "## Defining a testbed\n",
    "I was trying to plot some new non-linear functions using sqrt and ln to test the analytic operators."
   ]
  },
  {
   "cell_type": "code",
   "execution_count": 77,
   "metadata": {},
   "outputs": [
    {
     "data": {
      "image/png": "[encoded data removed]",
      "text/plain": [
       "<matplotlib.figure.Figure at 0x7fa47492a588>"
      ]
     },
     "metadata": {},
     "output_type": "display_data"
    }
   ],
   "source": [
    "def func_1(x_arr):\n",
    "    f = lambda x : ((10-x)/2)*(2*x+1)/(2*math.sqrt(x))\n",
    "    f = np.vectorize(f)\n",
    "    return f(x_arr)\n",
    "\n",
    "x_ts = {'func_1' : np.linspace(0.1, 5, num=50)}\n",
    "x_tr = {'func_1' : np.random.choice(x_ts['func_1'], 20)}\n",
    "y_tr = {'func_1' : func_1(x_tr['func_1'])}\n",
    "y_ts = {'func_1' : func_1(x_ts['func_1'])}\n",
    "\n",
    "plt.scatter(x_tr['func_1'], y_tr['func_1'])\n",
    "plt.plot(x_ts['func_1'], y_ts['func_1'], linewidth=0.5)\n",
    "\n",
    "plt.show()"
   ]
  },
  {
   "cell_type": "code",
   "execution_count": 82,
   "metadata": {},
   "outputs": [
    {
     "name": "stderr",
     "output_type": "stream",
     "text": [
      "/home/nbuser/anaconda3_501/lib/python3.6/site-packages/sklearn/utils/validation.py:578: DataConversionWarning: A column-vector y was passed when a 1d array was expected. Please change the shape of y to (n_samples, ), for example using ravel().\n",
      "  y = column_or_1d(y, warn=True)\n"
     ]
    },
    {
     "name": "stdout",
     "output_type": "stream",
     "text": [
      "    |    Population Average   |             Best Individual              |\n",
      "---- ------------------------- ------------------------------------------ ----------\n",
      " Gen   Length          Fitness   Length          Fitness      OOB Fitness  Time Left\n",
      "   0    31.16    50.8756521758       15    1.82809938723    2.91131296203     15.35s\n",
      "   1    23.04    4.80616359808       77    1.54283385259    3.04845314391     22.98s\n",
      "   2    23.92    3.79434818892       33    1.23192486277    1.59938290961     25.27s\n",
      "   3    20.67    3.18726360779       27   0.405681244503    0.47111150593     26.85s\n",
      "   4    25.11     2.5883162102       27    0.40942113952   0.441033417009     27.62s\n",
      "   5    25.63    2.57041712568       54   0.330375728153   0.354321861169     25.95s\n",
      "   6    26.06    2.47483109521       27   0.323040829764   0.874038386479     25.04s\n",
      "   7    25.57    2.22259178787       28   0.253311674494   0.536911367563     23.50s\n",
      "   8    24.95    2.22308372154       28   0.286705776311   0.354927086888     21.52s\n",
      "   9    22.15    2.69839972176       29   0.270108818111   0.449697429641     19.93s\n",
      "  10    19.93    2.82066728558       28   0.285834359528    0.36119735153     17.91s\n",
      "  11    15.89    2.92054502026       17   0.239996171952   0.776403386126     15.67s\n",
      "  12    15.92     3.0057724307       15    0.23484963181    0.69429882341     13.41s\n",
      "  13    15.37    2.96793412786       15   0.223982255764   0.725476525829     11.34s\n",
      "  14    15.31    3.67694780792       15   0.257274664344   0.618649922024      9.34s\n",
      "  15    14.73    3.08100654828       15   0.257274664344   0.618649922024      7.40s\n",
      "  16    14.64    3.17295303404       15   0.224026448631   0.725775003058      5.51s\n",
      "  17     14.4    3.07896068021       15   0.224026448631   0.725775003058      3.62s\n",
      "  18     14.9     3.0620049965       15   0.247505555119   0.707085391668      1.79s\n",
      "  19    14.54    3.04802922824       14   0.248841740058   0.707999874975      0.00s\n"
     ]
    }
   ],
   "source": [
    "y_ts_hat = {'sqrt_quot_an' : {}}\n",
    "\n",
    "model = SymbolicRegressor(function_set = f_set_sqrt_quot_an,\n",
    "                          population_size=500, metric='rmse', \n",
    "                          generations=20, verbose=1,\n",
    "                          stopping_criteria=0.01, max_samples=0.9,\n",
    "                          p_crossover=0.7, p_subtree_mutation=0.1,\n",
    "                          p_hoist_mutation=0.05, p_point_mutation=0.1,\n",
    "                          parsimony_coefficient=0.02, random_state=0)\n",
    "\n",
    "model.fit(x_tr['func_1'].reshape(-1, 1), y_tr['func_1'].reshape(-1, 1))\n",
    "y_ts_hat['sqrt_quot_an']['func_1'] = model.predict(x_ts['func_1'].reshape(-1, 1))\n",
    "\n"
   ]
  },
  {
   "cell_type": "code",
   "execution_count": 83,
   "metadata": {},
   "outputs": [
    {
     "data": {
      "image/png": "[encoded data removed]",
      "text/plain": [
       "<matplotlib.figure.Figure at 0x7fa490b1e908>"
      ]
     },
     "metadata": {},
     "output_type": "display_data"
    }
   ],
   "source": [
    "plt.scatter(x_tr['func_1'], y_tr['func_1'])\n",
    "plt.plot(x_ts['func_1'], y_ts['func_1'], linewidth=0.5, color='red')\n",
    "\n",
    "plt.plot(x_ts['func_1'], y_ts_hat['sqrt_quot_an']['func_1'], linewidth=1, color='blue')\n",
    "\n",
    "plt.show()"
   ]
  }
 ],
 "metadata": {
  "kernelspec": {
   "display_name": "Python 3.6",
   "language": "python",
   "name": "python36"
  },
  "language_info": {
   "codemirror_mode": {
    "name": "ipython",
    "version": 3
   },
   "file_extension": ".py",
   "mimetype": "text/x-python",
   "name": "python",
   "nbconvert_exporter": "python",
   "pygments_lexer": "ipython3",
   "version": "3.6.2"
  }
 },
 "nbformat": 4,
 "nbformat_minor": 2
}
